{
 "cells": [
  {
   "cell_type": "markdown",
   "id": "4480c86a",
   "metadata": {},
   "source": [
    "# Lab 11\n",
    "### DSCI 510 / USC / Hermjakob section / Spring 2025\n",
    "---\n",
    "Hello and welcome to Lab11.\n",
    "\n",
    "Please complete the assignments individually. If you are having trouble completing the assignment, please contact your TA for help, but he will not write the code for you and no one else should :) !!!\n",
    "\n",
    "Please complete the code in this notebook and submit it on Brightspace. Before you start with the lab assignment, please make sure that all supporting files are downloaded from Blackboard and are in the same directory as this notebook.\n",
    "\n",
    "It's OK to use online resources such as https://docs.python.org/3 and https://stackoverflow.com regarding Python in general, but you must not look up the problems themselves.\n",
    "\n",
    "Your last submission will be counted towards your grade."
   ]
  },
  {
   "cell_type": "markdown",
   "id": "26cce9a0",
   "metadata": {},
   "source": [
    "Q1: DJIA Price History with Pandas [15 points]\n",
    "---\n",
    "Download the price history of the 30 stock companies in the Dow Jones Industrial Average (DJIA) index\n",
    "for 2023 and 2024.\n",
    "\n",
    "Create and display a pandas DataFrame as follows: \n",
    "* One row per company\n",
    "* Columns: Company name, GICS Sector, Close 2022, Close 2023, Close 2024, Performance 2023, Performance 2024\n",
    "* Sorted by performance in the two-year period 2023-2024, best performer first.\n",
    "\n",
    "_Close 2022_ is the closing price on the last trading day of 2022 (December 30).<br>\n",
    "_Performance 2023_ is the relative gain from _close 2022_ to _close 2023_: $\\frac{close2023 - close2022}{close2022}$<br>\n",
    "Use _DJIA_stocks.csv_ for a list of DJIA stocks and their Global Industry Classification Standard (GICS) sectors.  "
   ]
  },
  {
   "cell_type": "code",
   "execution_count": 1,
   "id": "265854ba",
   "metadata": {},
   "outputs": [],
   "source": [
    "import pandas as pd\n",
    "import yfinance as yf\n",
    "\n",
    "# Add your code here"
   ]
  },
  {
   "cell_type": "markdown",
   "id": "d9b27c46",
   "metadata": {},
   "source": [
    "Q2: Visualization with Matplotlib [15 points + 5 bonus points]\n",
    "---\n",
    "Visualize the data from Q1 as follows:\n",
    "1. Print the stock price curve for _Apple_ for the two-year period 2023-2024.\n",
    "2. Print a pie chart with the Global Industry Classification Standard (GICS) sectors of the 30 DJIA stocks, including percentages without decimals.\n",
    "3. Print a scatter plot of the 30 DJIA stocks, with their 2023 performance on the x-axis and their 2024 performance on the y-axis.<br>5 bonus points if you color the scatter-plot dots for each stock to match the GICS sectors' colors in the pie chart."
   ]
  },
  {
   "cell_type": "code",
   "execution_count": 2,
   "id": "36c1fda4",
   "metadata": {},
   "outputs": [],
   "source": [
    "# Add your code for Q2.1 here"
   ]
  },
  {
   "cell_type": "code",
   "execution_count": 3,
   "id": "fcde01d5",
   "metadata": {},
   "outputs": [],
   "source": [
    "# Add your code for Q2.2 here"
   ]
  },
  {
   "cell_type": "code",
   "execution_count": 4,
   "id": "b6cc2c73",
   "metadata": {},
   "outputs": [],
   "source": [
    "# Add your code for Q2.3 here"
   ]
  }
 ],
 "metadata": {
  "kernelspec": {
   "display_name": "Python 3 (ipykernel)",
   "language": "python",
   "name": "python3"
  },
  "language_info": {
   "codemirror_mode": {
    "name": "ipython",
    "version": 3
   },
   "file_extension": ".py",
   "mimetype": "text/x-python",
   "name": "python",
   "nbconvert_exporter": "python",
   "pygments_lexer": "ipython3",
   "version": "3.11.5"
  }
 },
 "nbformat": 4,
 "nbformat_minor": 5
}
